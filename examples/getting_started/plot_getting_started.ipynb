{
 "cells": [
  {
   "cell_type": "code",
   "execution_count": null,
   "id": "d0d00fdd",
   "metadata": {},
   "outputs": [],
   "source": [
    "%matplotlib inline"
   ]
  },
  {
   "cell_type": "markdown",
   "id": "77f7f04d",
   "metadata": {
    "cell_marker": "\"\"\""
   },
   "source": [
    "Getting started tutorial\n",
    "========================\n",
    "\n",
    "In this introductory example, you will see how to use the :code:`spikeinterface` to perform a full electrophysiology analysis.\n",
    "We will first create some simulated data, and we will then perform some pre-processing, run a couple of spike sorting\n",
    "algorithms, inspect and validate the results, export to Phy, and compare spike sorters.\n"
   ]
  },
  {
   "cell_type": "code",
   "execution_count": null,
   "id": "c2f69d9f",
   "metadata": {},
   "outputs": [],
   "source": [
    "import matplotlib.pyplot as plt"
   ]
  },
  {
   "cell_type": "markdown",
   "id": "caa34c35",
   "metadata": {
    "cell_marker": "##############################################################################"
   },
   "source": [
    "The spikeinterface module by itself import only the spikeinterface.core submodule\n",
    "which is not useful for end user"
   ]
  },
  {
   "cell_type": "code",
   "execution_count": null,
   "id": "6122b616",
   "metadata": {},
   "outputs": [],
   "source": [
    "import spikeinterface"
   ]
  },
  {
   "cell_type": "markdown",
   "id": "8f11660c",
   "metadata": {
    "cell_marker": "##############################################################################"
   },
   "source": [
    "We need to import one by one different submodules separately (preferred).\n",
    "There are 5 modules:\n",
    "\n",
    "- :code:`extractors` : file IO\n",
    "- :code:`toolkit` : processing toolkit for pre-, post-processing, validation, and automatic curation\n",
    "- :code:`sorters` : Python wrappers of spike sorters\n",
    "- :code:`comparison` : comparison of spike sorting output\n",
    "- :code:`widgets` : visualization"
   ]
  },
  {
   "cell_type": "code",
   "execution_count": null,
   "id": "35e4014e",
   "metadata": {},
   "outputs": [],
   "source": [
    "import spikeinterface as si  # import core only\n",
    "import spikeinterface.extractors as se\n",
    "import spikeinterface.toolkit as st\n",
    "import spikeinterface.sorters as ss\n",
    "import spikeinterface.comparison as sc\n",
    "import spikeinterface.widgets as sw"
   ]
  },
  {
   "cell_type": "markdown",
   "id": "fe5f001b",
   "metadata": {
    "cell_marker": "##############################################################################"
   },
   "source": [
    " We can also import all submodules at once with this\n",
    "  this internally import core+extractors+toolkit+sorters+comparison+widgets+exporters\n",
    "\n",
    "This is useful for notebooks but this is a more heavy import because internally many more dependency\n",
    "are imported (scipy/sklearn/networkx/matplotlib/h5py...)"
   ]
  },
  {
   "cell_type": "code",
   "execution_count": null,
   "id": "df0be422",
   "metadata": {},
   "outputs": [],
   "source": [
    "import spikeinterface.full as si"
   ]
  },
  {
   "cell_type": "markdown",
   "id": "bf08b354",
   "metadata": {
    "cell_marker": "##############################################################################"
   },
   "source": [
    "First, let's download a simulated dataset from the\n",
    "'https://gin.g-node.org/NeuralEnsemble/ephy_testing_data' repo\n",
    "\n",
    "Then we can open it. Note that `MEArec <https://mearec.readthedocs.io>`_ simulated file\n",
    "contains both \"recording\" and a \"sorting\" object."
   ]
  },
  {
   "cell_type": "code",
   "execution_count": null,
   "id": "b86ad4c3",
   "metadata": {},
   "outputs": [],
   "source": [
    "local_path = si.download_dataset(remote_path='mearec/mearec_test_10s.h5')\n",
    "recording, sorting_true = se.read_mearec(local_path)\n",
    "print(recording)\n",
    "print(sorting_true)"
   ]
  },
  {
   "cell_type": "markdown",
   "id": "c5a74811",
   "metadata": {
    "cell_marker": "##############################################################################"
   },
   "source": [
    ":code:`recording` is a :code:`RecordingExtractor` object, which extracts information about channel ids, channel locations\n",
    "(if present), the sampling frequency of the recording, and the extracellular  traces. :code:`sorting_true` is a\n",
    ":code:`SortingExtractor` object, which contains information about spike-sorting related information,  including unit ids,\n",
    "spike trains, etc. Since the data are simulated, :code:`sorting_true` has ground-truth information of the spiking\n",
    "activity of each unit.\n",
    "\n",
    "Let's use the :code:`widgets` module to visualize the traces and the raster plots."
   ]
  },
  {
   "cell_type": "code",
   "execution_count": null,
   "id": "fb3079b3",
   "metadata": {},
   "outputs": [],
   "source": [
    "w_ts = sw.plot_timeseries(recording, time_range=(0, 5))\n",
    "w_rs = sw.plot_rasters(sorting_true, time_range=(0, 5))"
   ]
  },
  {
   "cell_type": "markdown",
   "id": "1aed8de8",
   "metadata": {
    "cell_marker": "##############################################################################"
   },
   "source": [
    "This is how you retrieve info from a :code:`RecordingExtractor`..."
   ]
  },
  {
   "cell_type": "code",
   "execution_count": null,
   "id": "2e431231",
   "metadata": {},
   "outputs": [],
   "source": [
    "channel_ids = recording.get_channel_ids()\n",
    "fs = recording.get_sampling_frequency()\n",
    "num_chan = recording.get_num_channels()\n",
    "num_seg = recording.get_num_segments()\n",
    "\n",
    "print('Channel ids:', channel_ids)\n",
    "print('Sampling frequency:', fs)\n",
    "print('Number of channels:', num_chan)\n",
    "print('Number of segments:', num_seg)"
   ]
  },
  {
   "cell_type": "markdown",
   "id": "55cfabe8",
   "metadata": {
    "cell_marker": "##############################################################################"
   },
   "source": [
    "...and a :code:`SortingExtractor`"
   ]
  },
  {
   "cell_type": "code",
   "execution_count": null,
   "id": "3337953e",
   "metadata": {},
   "outputs": [],
   "source": [
    "num_seg = recording.get_num_segments()\n",
    "unit_ids = sorting_true.get_unit_ids()\n",
    "spike_train = sorting_true.get_unit_spike_train(unit_id=unit_ids[0])\n",
    "\n",
    "print('Number of segments:', num_seg)\n",
    "print('Unit ids:', unit_ids)\n",
    "print('Spike train of first unit:', spike_train)"
   ]
  },
  {
   "cell_type": "markdown",
   "id": "e44473c0",
   "metadata": {
    "cell_marker": "##################################################################"
   },
   "source": [
    " :code:`spikeinterface` internally uses the :code:`probeinterface`\n",
    "to handle Probe and ProbeGroup.\n",
    " So any probe in the probeinterface collections can be download\n",
    "and set to a Recording object.\n",
    "In this case, the MEArec dataset already handles a Probe and we don't need to set it."
   ]
  },
  {
   "cell_type": "code",
   "execution_count": null,
   "id": "6472005e",
   "metadata": {},
   "outputs": [],
   "source": [
    "probe = recording.get_probe()\n",
    "print(probe)\n",
    "\n",
    "from probeinterface.plotting import plot_probe\n",
    "\n",
    "plot_probe(probe)"
   ]
  },
  {
   "cell_type": "markdown",
   "id": "78c9f2ec",
   "metadata": {
    "cell_marker": "##############################################################################"
   },
   "source": [
    "Using the :code:`toolkit`, you can perform preprocessing on the recordings.\n",
    "Each pre-processing function also returns a :code:`RecordingExtractor`,\n",
    "which makes it easy to build pipelines. Here, we filter the recording and\n",
    "apply common median reference (CMR).\n",
    "All theses preprocessing steps are \"lazy\". The computation is done on demand when we call\n",
    "`recording.get_traces(...)` or when we save the object to disk."
   ]
  },
  {
   "cell_type": "code",
   "execution_count": null,
   "id": "f0525bb1",
   "metadata": {},
   "outputs": [],
   "source": [
    "recording_cmr = recording\n",
    "recording_f = st.bandpass_filter(recording, freq_min=300, freq_max=6000)\n",
    "print(recording_f)\n",
    "recording_cmr = st.common_reference(recording_f, reference='global', operator='median')\n",
    "print(recording_cmr)\n",
    "\n",
    "# this computes and saves the recording after applying the preprocessing chain\n",
    "recording_preprocessed = recording_cmr.save(format='binary')\n",
    "print(recording_preprocessed)"
   ]
  },
  {
   "cell_type": "markdown",
   "id": "2a026411",
   "metadata": {
    "cell_marker": "##############################################################################"
   },
   "source": [
    "Now you are ready to spike sort using the :code:`sorters` module!\n",
    "Let's first check which sorters are implemented and which are installed"
   ]
  },
  {
   "cell_type": "code",
   "execution_count": null,
   "id": "8cd32b60",
   "metadata": {},
   "outputs": [],
   "source": [
    "print('Available sorters', ss.available_sorters())\n",
    "print('Installed sorters', ss.installed_sorters())"
   ]
  },
  {
   "cell_type": "markdown",
   "id": "c4b3e8fb",
   "metadata": {
    "cell_marker": "##############################################################################"
   },
   "source": [
    "The :code:`ss.installed_sorters()` will list the sorters installed in the machine.\n",
    "We can see we have HerdingSpikes and Tridesclous installed.\n",
    "Spike sorters come with a set of parameters that users can change.\n",
    "The available parameters are dictionaries and can be accessed with:"
   ]
  },
  {
   "cell_type": "code",
   "execution_count": null,
   "id": "d0056f2b",
   "metadata": {},
   "outputs": [],
   "source": [
    "print(ss.get_default_params('herdingspikes'))\n",
    "print(ss.get_default_params('tridesclous'))"
   ]
  },
  {
   "cell_type": "markdown",
   "id": "effa6622",
   "metadata": {
    "cell_marker": "##############################################################################"
   },
   "source": [
    "Let's run herdingspikes and change one of the parameter, say, the detect_threshold:"
   ]
  },
  {
   "cell_type": "code",
   "execution_count": null,
   "id": "e1eca908",
   "metadata": {},
   "outputs": [],
   "source": [
    "sorting_HS = ss.run_herdingspikes(recording=recording_preprocessed, detect_threshold=4)\n",
    "print(sorting_HS)"
   ]
  },
  {
   "cell_type": "markdown",
   "id": "8ed7678a",
   "metadata": {
    "cell_marker": "##############################################################################"
   },
   "source": [
    "Alternatively we can pass full dictionary containing the parameters:"
   ]
  },
  {
   "cell_type": "code",
   "execution_count": null,
   "id": "bf73ac5b",
   "metadata": {},
   "outputs": [],
   "source": [
    "other_params = ss.get_default_params('herdingspikes')\n",
    "other_params['detect_threshold'] = 5\n",
    "\n",
    "# parameters set by params dictionary\n",
    "sorting_HS_2 = ss.run_herdingspikes(recording=recording_preprocessed, output_folder=\"redringspikes_output2\",\n",
    "                                    **other_params)\n",
    "print(sorting_HS_2)"
   ]
  },
  {
   "cell_type": "markdown",
   "id": "375732a6",
   "metadata": {
    "cell_marker": "##############################################################################"
   },
   "source": [
    "Let's run tridesclous as well, with default parameters:"
   ]
  },
  {
   "cell_type": "code",
   "execution_count": null,
   "id": "4ab0a179",
   "metadata": {},
   "outputs": [],
   "source": [
    "sorting_TDC = ss.run_tridesclous(recording=recording_preprocessed)"
   ]
  },
  {
   "cell_type": "markdown",
   "id": "0c1c7d90",
   "metadata": {
    "cell_marker": "##############################################################################"
   },
   "source": [
    "The :code:`sorting_HS` and :code:`sorting_TDC` are :code:`SortingExtractor`\n",
    "objects. We can print the units found using:"
   ]
  },
  {
   "cell_type": "code",
   "execution_count": null,
   "id": "5fe379c6",
   "metadata": {},
   "outputs": [],
   "source": [
    "print('Units found by herdingspikes:', sorting_HS.get_unit_ids())\n",
    "print('Units found by tridesclous:', sorting_TDC.get_unit_ids())"
   ]
  },
  {
   "cell_type": "markdown",
   "id": "dcc8d5cb",
   "metadata": {
    "cell_marker": "##############################################################################"
   },
   "source": [
    ":code:`spikeinterface` provides a efficient way to extractor waveform snippets from paired recording/sorting objects.\n",
    "The :code:`WaveformExtractor` class samples some spikes (:code:`max_spikes_per_unit=500`) for each cluster and stores\n",
    "them on disk. These waveforms per cluster are helpful to compute the average waveform, or \"template\", for each unit\n",
    "and then to compute, for example, quality metrics."
   ]
  },
  {
   "cell_type": "code",
   "execution_count": null,
   "id": "7ac92235",
   "metadata": {},
   "outputs": [],
   "source": [
    "we_TDC = si.WaveformExtractor.create(recording_preprocessed, sorting_TDC, 'waveforms', remove_if_exists=True)\n",
    "we_TDC.set_params(ms_before=3., ms_after=4., max_spikes_per_unit=500)\n",
    "we_TDC.run_extract_waveforms(n_jobs=-1, chunk_size=30000)\n",
    "print(we_TDC)\n",
    "\n",
    "unit_id0 = sorting_TDC.unit_ids[0]\n",
    "wavefroms = we_TDC.get_waveforms(unit_id0)\n",
    "print(wavefroms.shape)\n",
    "\n",
    "template = we_TDC.get_template(unit_id0)\n",
    "print(template.shape)"
   ]
  },
  {
   "cell_type": "markdown",
   "id": "d6099ecc",
   "metadata": {
    "cell_marker": "##############################################################################"
   },
   "source": [
    "Once we have the  `WaveformExtractor` object\n",
    "we can post-process, validate, and curate the results. With\n",
    "the :code:`toolkit.postprocessing` submodule, one can, for example,\n",
    "get waveforms, templates, maximum channels, PCA scores, or export the data\n",
    "to Phy. `Phy <https://github.com/cortex-lab/phy>`_ is a GUI for manual\n",
    "curation of the spike sorting output. To export to phy you can run:"
   ]
  },
  {
   "cell_type": "code",
   "execution_count": null,
   "id": "99f8de3a",
   "metadata": {},
   "outputs": [],
   "source": [
    "from spikeinterface.exporters import export_to_phy\n",
    "\n",
    "export_to_phy(we_TDC, './phy_folder_for_TDC',\n",
    "              compute_pc_features=False, compute_amplitudes=True)"
   ]
  },
  {
   "cell_type": "markdown",
   "id": "018c4d57",
   "metadata": {
    "cell_marker": "##############################################################################"
   },
   "source": [
    "Then you can run the template-gui with: :code:`phy template-gui phy/params.py`\n",
    "and manually curate the results."
   ]
  },
  {
   "cell_type": "markdown",
   "id": "4f3d36b3",
   "metadata": {
    "cell_marker": "##############################################################################"
   },
   "source": [
    "Quality metrics for the spike sorting output are very important to asses the spike sorting performance.\n",
    "The :code:`spikeinterface.toolkit.qualitymetrics` module implements several quality metrics\n",
    "to assess the goodness of sorted units. Among those, for example,\n",
    "are signal-to-noise ratio, ISI violation ratio, isolation distance, and many more.\n",
    "Theses metrics are built on top of WaveformExtractor class and return a dictionary with the unit ids as keys:"
   ]
  },
  {
   "cell_type": "code",
   "execution_count": null,
   "id": "a480f705",
   "metadata": {},
   "outputs": [],
   "source": [
    "snrs = st.compute_snrs(we_TDC)\n",
    "print(snrs)\n",
    "si_violations_ratio, isi_violations_rate, isi_violations_count = st.compute_isi_violations(we_TDC, isi_threshold_ms=1.5)\n",
    "print(si_violations_ratio)\n",
    "print(isi_violations_rate)\n",
    "print(isi_violations_count)"
   ]
  },
  {
   "cell_type": "markdown",
   "id": "d9c2c050",
   "metadata": {
    "cell_marker": "##############################################################################"
   },
   "source": [
    "All theses quality metrics can be computed in one shot and returned as\n",
    "a :code:`pandas.Dataframe`"
   ]
  },
  {
   "cell_type": "code",
   "execution_count": null,
   "id": "37ac8c2d",
   "metadata": {},
   "outputs": [],
   "source": [
    "metrics = st.compute_quality_metrics(we_TDC, metric_names=['snr', 'isi_violation', 'amplitude_cutoff'])\n",
    "print(metrics)"
   ]
  },
  {
   "cell_type": "markdown",
   "id": "4948c84b",
   "metadata": {
    "cell_marker": "##############################################################################"
   },
   "source": [
    "Quality metrics can be also used to automatically curate the spike sorting\n",
    "output. For example, you can select sorted units with a SNR above a\n",
    "certain threshold:"
   ]
  },
  {
   "cell_type": "code",
   "execution_count": null,
   "id": "99783d8f",
   "metadata": {},
   "outputs": [],
   "source": [
    "keep_mask = (metrics['snr'] > 7.5) & (metrics['isi_violations_rate'] < 0.01)\n",
    "print(keep_mask)\n",
    "\n",
    "keep_unit_ids = keep_mask[keep_mask].index.values\n",
    "print(keep_unit_ids)\n",
    "\n",
    "curated_sorting = sorting_TDC.select_units(keep_unit_ids)\n",
    "print(curated_sorting)"
   ]
  },
  {
   "cell_type": "markdown",
   "id": "adf03c2e",
   "metadata": {
    "cell_marker": "##############################################################################"
   },
   "source": [
    "The final part of this tutorial deals with comparing spike sorting outputs.\n",
    "We can either (1) compare the spike sorting results with the ground-truth\n",
    "sorting :code:`sorting_true`, (2) compare the output of two (HerdingSpikes\n",
    "and Tridesclous), or (3) compare the output of multiple sorters:"
   ]
  },
  {
   "cell_type": "code",
   "execution_count": null,
   "id": "e97b761b",
   "metadata": {},
   "outputs": [],
   "source": [
    "comp_gt_TDC = sc.compare_sorter_to_ground_truth(gt_sorting=sorting_true, tested_sorting=sorting_TDC)\n",
    "comp_TDC_HS = sc.compare_two_sorters(sorting1=sorting_TDC, sorting2=sorting_HS)\n",
    "comp_multi = sc.compare_multiple_sorters(sorting_list=[sorting_TDC, sorting_HS],\n",
    "                                         name_list=['tdc', 'hs'])"
   ]
  },
  {
   "cell_type": "markdown",
   "id": "51cbde89",
   "metadata": {
    "cell_marker": "##############################################################################"
   },
   "source": [
    "When comparing with a ground-truth sorting extractor (1), you can get the sorting performance and plot a confusion\n",
    "matrix"
   ]
  },
  {
   "cell_type": "code",
   "execution_count": null,
   "id": "68db127c",
   "metadata": {},
   "outputs": [],
   "source": [
    "comp_gt_TDC.get_performance()\n",
    "w_conf = sw.plot_confusion_matrix(comp_gt_TDC)\n",
    "w_agr = sw.plot_agreement_matrix(comp_gt_TDC)"
   ]
  },
  {
   "cell_type": "markdown",
   "id": "ac6a3670",
   "metadata": {
    "cell_marker": "##############################################################################"
   },
   "source": [
    "When comparing two sorters (2), we can see the matching of units between sorters.\n",
    "Units which are not matched has -1 as unit id:"
   ]
  },
  {
   "cell_type": "code",
   "execution_count": null,
   "id": "b3386d7a",
   "metadata": {},
   "outputs": [],
   "source": [
    "comp_TDC_HS.hungarian_match_12"
   ]
  },
  {
   "cell_type": "markdown",
   "id": "60cb71da",
   "metadata": {
    "cell_marker": "##############################################################################"
   },
   "source": [
    "or the reverse:"
   ]
  },
  {
   "cell_type": "code",
   "execution_count": null,
   "id": "620bd1ad",
   "metadata": {},
   "outputs": [],
   "source": [
    "comp_TDC_HS.hungarian_match_21"
   ]
  },
  {
   "cell_type": "markdown",
   "id": "9665968f",
   "metadata": {
    "cell_marker": "##############################################################################"
   },
   "source": [
    "When comparing multiple sorters (3), you can extract a :code:`SortingExtractor` object with units in agreement\n",
    "between sorters. You can also plot a graph showing how the units are matched between the sorters."
   ]
  },
  {
   "cell_type": "code",
   "execution_count": null,
   "id": "263d8e65",
   "metadata": {},
   "outputs": [],
   "source": [
    "sorting_agreement = comp_multi.get_agreement_sorting(minimum_agreement_count=2)\n",
    "\n",
    "print('Units in agreement between Klusta and Mountainsort4:', sorting_agreement.get_unit_ids())\n",
    "\n",
    "w_multi = sw.plot_multicomp_graph(comp_multi)\n",
    "\n",
    "plt.show()"
   ]
  },
  {
   "cell_type": "code",
   "execution_count": null,
   "id": "c151074e",
   "metadata": {},
   "outputs": [],
   "source": []
  }
 ],
 "metadata": {
  "jupytext": {
   "cell_metadata_filter": "-all",
   "formats": "ipynb,py",
   "main_language": "python"
  },
  "kernelspec": {
   "display_name": "spikeinterface",
   "language": "python",
   "name": "si_env"
  },
  "language_info": {
   "codemirror_mode": {
    "name": "ipython",
    "version": 3
   },
   "file_extension": ".py",
   "mimetype": "text/x-python",
   "name": "python",
   "nbconvert_exporter": "python",
   "pygments_lexer": "ipython3",
   "version": "3.8.12"
  }
 },
 "nbformat": 4,
 "nbformat_minor": 5
}
